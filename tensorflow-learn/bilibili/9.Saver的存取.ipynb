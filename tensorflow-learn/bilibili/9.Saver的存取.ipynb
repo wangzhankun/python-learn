{
 "cells": [
  {
   "cell_type": "code",
   "execution_count": 1,
   "metadata": {},
   "outputs": [],
   "source": [
    "import tensorflow as tf\n",
    "v1 = tf.Variable(tf.random_normal([1,2]), name=\"v1\")\n",
    "v2 = tf.Variable(tf.random_normal([2,3]), name=\"v2\")\n",
    "\n",
    "\n",
    "init_op = tf.global_variables_initializer()\n",
    "saver = tf.train.Saver()"
   ]
  },
  {
   "cell_type": "code",
   "execution_count": 2,
   "metadata": {},
   "outputs": [
    {
     "name": "stdout",
     "output_type": "stream",
     "text": [
      "V1: [[-1.2271612  1.6350613]]\n",
      "V2: [[ 0.27636182 -0.06944461  0.9454976 ]\n",
      " [-0.86689085  0.6268141  -1.1279302 ]]\n",
      "Model saved in file:  save/model.ckpt\n"
     ]
    }
   ],
   "source": [
    "with tf.Session() as sess:\n",
    "    sess.run(init_op)\n",
    "    print(\"V1:\", sess.run(v1))\n",
    "    print(\"V2:\", sess.run(v2))    \n",
    "    saver_path = saver.save(sess, \"save/model.ckpt\")\n",
    "    print(\"Model saved in file: \", saver_path)"
   ]
  },
  {
   "cell_type": "code",
   "execution_count": 1,
   "metadata": {},
   "outputs": [
    {
     "name": "stdout",
     "output_type": "stream",
     "text": [
      "INFO:tensorflow:Restoring parameters from save/model.ckpt\n",
      "V1: [[-1.2271612  1.6350613]]\n",
      "V2: [[ 0.27636182 -0.06944461  0.9454976 ]\n",
      " [-0.86689085  0.6268141  -1.1279302 ]]\n",
      "Model restored\n"
     ]
    }
   ],
   "source": [
    "import tensorflow as tf\n",
    "v1 = tf.Variable(tf.random_normal([1,2]), name=\"v1\")\n",
    "v2 = tf.Variable(tf.random_normal([2,3]), name=\"v2\")\n",
    "\n",
    "saver = tf.train.Saver()\n",
    "with tf.Session() as sess:\n",
    "    saver.restore(sess, \"save/model.ckpt\")\n",
    "    print(\"V1:\", sess.run(v1))\n",
    "    print(\"V2:\", sess.run(v2))    \n",
    "    print(\"Model restored\")\n"
   ]
  },
  {
   "cell_type": "code",
   "execution_count": 1,
   "metadata": {},
   "outputs": [
    {
     "name": "stdout",
     "output_type": "stream",
     "text": [
      "INFO:tensorflow:Restoring parameters from G:/text8_skip_model/text8.ckpt\n",
      "[[ 3.9918843e-04 -2.8603679e-02 -2.0211518e-02 ... -5.3851549e-03\n",
      "   4.6167276e-03 -1.8334489e-02]\n",
      " [ 6.7152195e-03 -1.2529983e-02 -3.9639983e-02 ...  7.4364427e-03\n",
      "   4.8987423e-03  1.4845778e-03]\n",
      " [-2.7113203e-02 -4.7367398e-02  7.5686825e-03 ...  8.8328738e-03\n",
      "  -1.2769070e-02 -1.7322624e-02]\n",
      " ...\n",
      " [ 1.8582137e-01  9.1943187e-01 -8.2974792e-01 ... -9.0106413e-02\n",
      "  -3.0280295e-01 -7.5785142e-01]\n",
      " [ 4.7900310e-01  8.3888218e-02 -1.1387144e+00 ... -2.9268539e-01\n",
      "  -4.0917788e-02 -6.7600622e-03]\n",
      " [ 8.3958912e-01  5.9468699e-01  6.7435831e-01 ...  5.7364196e-02\n",
      "  -9.0913616e-02  3.7870321e-02]]\n",
      "Model restored\n"
     ]
    }
   ],
   "source": [
    "import tensorflow as tf\n",
    "embedding = tf.Variable(tf.random_uniform([63641, 200]) , name=\"embedding\")\n",
    "\n",
    "saver = tf.train.Saver()\n",
    "with tf.Session() as sess:\n",
    "    saver.restore(sess, \"G:/text8_skip_model/text8.ckpt\")\n",
    "    print(sess.run(embedding))\n",
    "    \n",
    "    #print(\"V1:\", sess.run(embedding))\n",
    "    #print(\"V2:\", sess.run())    \n",
    "    print(\"Model restored\")\n"
   ]
  },
  {
   "cell_type": "code",
   "execution_count": null,
   "metadata": {},
   "outputs": [],
   "source": []
  }
 ],
 "metadata": {
  "kernelspec": {
   "display_name": "Python 3",
   "language": "python",
   "name": "python3"
  },
  "language_info": {
   "codemirror_mode": {
    "name": "ipython",
    "version": 3
   },
   "file_extension": ".py",
   "mimetype": "text/x-python",
   "name": "python",
   "nbconvert_exporter": "python",
   "pygments_lexer": "ipython3",
   "version": "3.6.8"
  }
 },
 "nbformat": 4,
 "nbformat_minor": 2
}
