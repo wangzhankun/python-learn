{
 "cells": [
  {
   "cell_type": "code",
   "execution_count": 1,
   "metadata": {},
   "outputs": [],
   "source": [
    "import tensorflow as tf\n",
    "from nltk.tokenize import WordPunctTokenizer\n",
    "import numpy as np\n",
    "from collections import Counter"
   ]
  },
  {
   "cell_type": "code",
   "execution_count": 18,
   "metadata": {},
   "outputs": [],
   "source": [
    "def prepocess(text):\n",
    "    # 输入为文本,str类型\n",
    "    # 输出为处理后的单词列表\n",
    "    words = [word for word in text.split()]\n",
    "    tokenizer = WordPunctTokenizer()\n",
    "    words_count = Counter(words)\n",
    "    #删除单词数目少于5的噪声\n",
    "    out = [tokenizer.tokenize(word.lower())  for word in words if words_count[word] > 5]\n",
    "    output = [word[0] for word in out]\n",
    "    return output"
   ]
  },
  {
   "cell_type": "code",
   "execution_count": null,
   "metadata": {},
   "outputs": [],
   "source": [
    "def add_layer(inputs, in_size, out_size, nth_layer, activate_function=None):\n",
    "    layer_name = 'layer%s' % nth_layer\n",
    "    \n",
    "    with tf.name_scope('layer'):\n",
    "        with tf.name_scope('weight'):\n",
    "            Weights = tf.Variable(tf.random_uniform([in_size, out_size]), name='W')\n",
    "            tf.summary.histogram(layer_name + '/weight', Weights)\n",
    "\n",
    "        with tf.name_scope('biase'):\n",
    "            biases = tf.Variable(tf.zeros([1,out_size]), name='b')\n",
    "            tf.summary.histogram(layer_name + '/biases', biases)\n",
    "            \n",
    "        with tf.name_scope('Wx_pluse_b'):\n",
    "            Wx_pluse_b = tf.add(tf.matmul(inputs, Weights), biases)\n",
    "            \n",
    "        if activate_function is None:\n",
    "            output = Wx_pluse_b\n",
    "        else:\n",
    "            output = activate_function(Wx_pluse_b)\n",
    "            \n",
    "        tf.summary.histogram(layer_name + '/outputs', output)\n",
    "        return output"
   ]
  },
  {
   "cell_type": "code",
   "execution_count": 7,
   "metadata": {},
   "outputs": [],
   "source": [
    "with open(\"E:/aboutme/STUDY/python-learn/word2vec_skipgram/text8\", \"r\") as f:\n",
    "    text = f.read()"
   ]
  },
  {
   "cell_type": "code",
   "execution_count": 19,
   "metadata": {},
   "outputs": [
    {
     "name": "stdout",
     "output_type": "stream",
     "text": [
      "100000000\n",
      " anarchism originated as a term of abuse first use\n"
     ]
    }
   ],
   "source": [
    "print(len(text))\n",
    "print(text[:50])"
   ]
  },
  {
   "cell_type": "code",
   "execution_count": null,
   "metadata": {},
   "outputs": [],
   "source": [
    "words = prepocess(text)\n",
    "words[:5]"
   ]
  },
  {
   "cell_type": "code",
   "execution_count": null,
   "metadata": {},
   "outputs": [],
   "source": [
    "# 构建映射表\n",
    "vocab = set(words) # 字典表\n",
    "vocab_to_int = {word:num for num,word in enumerate(vocab)}\n",
    "int_to_vocab = {num:word for num,word in enumerate(vocab)}"
   ]
  },
  {
   "cell_type": "code",
   "execution_count": null,
   "metadata": {},
   "outputs": [],
   "source": []
  }
 ],
 "metadata": {
  "kernelspec": {
   "display_name": "Python 3",
   "language": "python",
   "name": "python3"
  },
  "language_info": {
   "codemirror_mode": {
    "name": "ipython",
    "version": 3
   },
   "file_extension": ".py",
   "mimetype": "text/x-python",
   "name": "python",
   "nbconvert_exporter": "python",
   "pygments_lexer": "ipython3",
   "version": "3.6.8"
  }
 },
 "nbformat": 4,
 "nbformat_minor": 2
}
