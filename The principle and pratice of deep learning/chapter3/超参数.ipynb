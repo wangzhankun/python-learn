{
 "cells": [
  {
   "cell_type": "markdown",
   "metadata": {},
   "source": [
    "# 超参数\n",
    "## 学习率\n",
    "梯度下降法：\n",
    "$$\n",
    "\\theta \\leftarrow \\theta - \\eta \\frac{\\partial L}{\\partial \\theta}\n",
    "\\\\\n",
    "\\eta \\in R: 学习率\n",
    "\\\\\n",
    "\\theta : 网络模型参数\n",
    "\\\\\n",
    "L = L(\\theta) : 损失函数\n",
    "$$\n",
    "网络参数$\\theta$的更新依赖于梯度误差与学习率：学习率越大，参数更新的步长越大；学习率越小，参数更新的步长越小。\n",
    "<br/>\n",
    "学习率过大，权重参数很可能会在误差最小的周围来回跳动。学习率过小则效率过低，耗时太长。\n",
    "<br/>\n",
    "一个好的学习率，对应的误差曲线应该具有很好的平滑性，并且最终使得网络达到最优的性能。一般情况下，高学习率使得误差下降的快，低学习率使得误差下降的平滑。"
   ]
  },
  {
   "cell_type": "markdown",
   "metadata": {},
   "source": [
    "## 动量\n"
   ]
  }
 ],
 "metadata": {
  "kernelspec": {
   "display_name": "Python 3",
   "language": "python",
   "name": "python3"
  },
  "language_info": {
   "codemirror_mode": {
    "name": "ipython",
    "version": 3
   },
   "file_extension": ".py",
   "mimetype": "text/x-python",
   "name": "python",
   "nbconvert_exporter": "python",
   "pygments_lexer": "ipython3",
   "version": "3.6.8"
  }
 },
 "nbformat": 4,
 "nbformat_minor": 2
}
