{
 "cells": [
  {
   "cell_type": "markdown",
   "metadata": {},
   "source": [
    "# 计算网络参数\n",
    "本例中采用交叉熵损失函数（也称负对数似然函数）。我们有$N$个样本，对应$C$个分类，那么预测值$\\hat{y}\\hat{y}$与实际值$y$之间的损失函数为：\n",
    "$$\n",
    "L(y,\\hat{y}) = -\\frac{1}{N} \\sum_{n \\in N} \\sum_{i \\in C} y_{n,i} log \\hat{y}_{n,i}\n",
    "$$\n",
    "\n",
    "本例中使用随机梯度下降算法来寻找损失函数的最小值。为了方便编码和实现，此处使用一个固定的学习率$\\eta$实现批量梯度下降算法：\n",
    "$$\n",
    "x \\leftarrow x - \\eta \\Delta x\n",
    "$$\n",
    "上式中$\\Delta x$对$x$进行求导，因此批量梯度下降首先需要对该人工神经网络模型中用到的参数$W_1 、 b_1 、 W_2 、 b_2$进行求导：\n",
    "$$\n",
    "\\frac{\\partial L}{\\partial W_1}, \\quad\n",
    "\\frac{\\partial L}{\\partial b_1}, \\quad\n",
    "\\frac{\\partial L}{\\partial W_2}, \\quad\n",
    "\\frac{\\partial L}{\\partial b_2}\n",
    "$$\n",
    "对权重和偏置参数进行求则是利用BP反向传播算法。得到网络中的各个参数的偏导：\n",
    "$$\n",
    "\\delta _3 = \\hat{y} - y   \\\\\n",
    "\\delta _2 = (1 - \\tanh^2 z_1) \\delta _3 W_{2}^{T}    \\\\\n",
    "\\frac{\\partial L}{\\partial W_2} = a_{1}^{T} \\delta _3    \\\\\n",
    "\\frac{\\partial L}{\\partial b_2} = \\delta _3    \\\\\n",
    "\\frac{\\partial L}{\\partial W_1} = x^{T} \\delta _2    \\\\\n",
    "\\frac{\\partial L}{\\partial b_1} = \\delta _2\n",
    "$$\n"
   ]
  },
  {
   "cell_type": "markdown",
   "metadata": {},
   "source": [
    "## 定义参数"
   ]
  },
  {
   "cell_type": "code",
   "execution_count": 1,
   "metadata": {},
   "outputs": [],
   "source": [
    "import numpy as np\n",
    "\n",
    "\n",
    "input_dim = 2 # 输入的维度\n",
    "output_dim = 2 # 输出的维度， 分类数\n",
    "\n",
    "epsilon = 0.01 # 梯度下降的学习率\n",
    "reg_lambda = 0.01 # 正则化强度"
   ]
  },
  {
   "cell_type": "markdown",
   "metadata": {},
   "source": [
    "## 损失函数\n",
    "下面实现 calculate_loss() 损失函数。 model 字典中存储着网络中的权重参数和偏置参数，通过 model 获取网络中的参数 $W_1, b_1, W_2, b_2$, 使用神经网络的潜亏公式进行前馈计算。前馈计算后得到的预测值为 probs 。 再用 probs 与真实的输出值 y 来计算损失值。"
   ]
  },
  {
   "cell_type": "code",
   "execution_count": null,
   "metadata": {},
   "outputs": [],
   "source": []
  },
  {
   "cell_type": "markdown",
   "metadata": {},
   "source": [
    "## 预测函数\n",
    "对于预测函数 predict() , 预测时只需要对模型进行一次向前传播，然后返回分类结果中概率值最大的一项。"
   ]
  },
  {
   "cell_type": "code",
   "execution_count": null,
   "metadata": {},
   "outputs": [],
   "source": []
  },
  {
   "cell_type": "markdown",
   "metadata": {},
   "source": [
    "## 反向传播算法计算梯度下降"
   ]
  },
  {
   "cell_type": "code",
   "execution_count": null,
   "metadata": {},
   "outputs": [],
   "source": []
  }
 ],
 "metadata": {
  "kernelspec": {
   "display_name": "Python 3",
   "language": "python",
   "name": "python3"
  },
  "language_info": {
   "codemirror_mode": {
    "name": "ipython",
    "version": 3
   },
   "file_extension": ".py",
   "mimetype": "text/x-python",
   "name": "python",
   "nbconvert_exporter": "python",
   "pygments_lexer": "ipython3",
   "version": "3.6.8"
  }
 },
 "nbformat": 4,
 "nbformat_minor": 2
}
